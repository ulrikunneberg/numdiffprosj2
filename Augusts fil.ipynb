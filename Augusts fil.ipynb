{
 "cells": [
  {
   "cell_type": "code",
   "execution_count": 121,
   "metadata": {},
   "outputs": [],
   "source": [
    "import time\n",
    "import numpy as np\n",
    "import matplotlib.pyplot as plt\n",
    "from matplotlib import cm\n",
    "import numpy.linalg as la\n",
    "from mpl_toolkits.mplot3d import Axes3D\n",
    "%matplotlib inline"
   ]
  },
  {
   "cell_type": "code",
   "execution_count": null,
   "metadata": {},
   "outputs": [],
   "source": []
  },
  {
   "cell_type": "code",
   "execution_count": 129,
   "metadata": {},
   "outputs": [],
   "source": [
    "T=2\n",
    "M=100\n",
    "N=100\n",
    "\n",
    "def simple_a(x):\n",
    "    return np.array((x-1/3)*(x-2/3))\n",
    "\n",
    "def pos_a(x):\n",
    "    a_vec=simple_a(x)\n",
    "    null_vec=np.zeros(len(x))\n",
    "    arr=np.maximum(null_vec, a_vec)\n",
    "    return arr\n",
    "\n",
    "def neg_a(x):\n",
    "    null_vec=np.zeros(len(x))\n",
    "    a_vec=-simple_a(x)\n",
    "    arr=np.maximum(null_vec, a_vec)\n",
    "    return arr\n",
    "        \n",
    "def tridiag(lower, diag, upper):\n",
    "    return np.diag(lower, -1) + np.diag(diag) + np.diag(upper, 1)    \n",
    "\n",
    "def plot_solutionTest(U, angle=-30, title=\"Title\"):\n",
    "    x_len = len(U[:,])\n",
    "    t_len = len(U[0])\n",
    "    \n",
    "    x=np.linspace(0, 1, x_len) \n",
    "    t=np.linspace(0, T, t_len)\n",
    "    fig, ax = plt.subplots(nrows=1, ncols=1, figsize=(6, 5), subplot_kw={\"projection\": \"3d\"})\n",
    "    tt, xx = np.meshgrid(t, x)\n",
    "    ax.plot_surface(tt, xx, U, cmap=cm.coolwarm)\n",
    "    ax.view_init(azim=angle)              # Rotate the figure\n",
    "    ax.set_title(title)\n",
    "    ax.set_xlabel('t')\n",
    "    ax.set_ylabel('x')\n",
    "    ax.set_zlabel('u')\n",
    "    fig.tight_layout()"
   ]
  },
  {
   "cell_type": "code",
   "execution_count": 1,
   "metadata": {},
   "outputs": [
    {
     "ename": "NameError",
     "evalue": "name 'M' is not defined",
     "output_type": "error",
     "traceback": [
      "\u001b[1;31m---------------------------------------------------------------------------\u001b[0m",
      "\u001b[1;31mNameError\u001b[0m                                 Traceback (most recent call last)",
      "\u001b[1;32m<ipython-input-1-2cc341dcba19>\u001b[0m in \u001b[0;36m<module>\u001b[1;34m\u001b[0m\n\u001b[0;32m     33\u001b[0m     \u001b[1;32mreturn\u001b[0m \u001b[0mU\u001b[0m\u001b[1;33m,\u001b[0m \u001b[0mx\u001b[0m\u001b[1;33m,\u001b[0m \u001b[0mt\u001b[0m\u001b[1;33m,\u001b[0m \u001b[0mCFL\u001b[0m\u001b[1;33m\u001b[0m\u001b[1;33m\u001b[0m\u001b[0m\n\u001b[0;32m     34\u001b[0m \u001b[1;33m\u001b[0m\u001b[0m\n\u001b[1;32m---> 35\u001b[1;33m \u001b[0mtest\u001b[0m\u001b[1;33m,\u001b[0m \u001b[0mtestx\u001b[0m\u001b[1;33m,\u001b[0m \u001b[0mtestt\u001b[0m\u001b[1;33m,\u001b[0m \u001b[0mCFL\u001b[0m\u001b[1;33m=\u001b[0m\u001b[0mupwind\u001b[0m\u001b[1;33m(\u001b[0m\u001b[0mM\u001b[0m\u001b[1;33m,\u001b[0m \u001b[0mT\u001b[0m\u001b[1;33m,\u001b[0m \u001b[0mN\u001b[0m\u001b[1;33m,\u001b[0m \u001b[0minit_test\u001b[0m\u001b[1;33m,\u001b[0m \u001b[0mbc_test\u001b[0m\u001b[1;33m)\u001b[0m\u001b[1;33m\u001b[0m\u001b[1;33m\u001b[0m\u001b[0m\n\u001b[0m\u001b[0;32m     36\u001b[0m \u001b[1;33m\u001b[0m\u001b[0m\n\u001b[0;32m     37\u001b[0m \u001b[0mplot_solutionTest\u001b[0m\u001b[1;33m(\u001b[0m\u001b[0mtest\u001b[0m\u001b[1;33m,\u001b[0m \u001b[0mangle\u001b[0m\u001b[1;33m=\u001b[0m\u001b[1;33m-\u001b[0m\u001b[1;36m30\u001b[0m\u001b[1;33m,\u001b[0m \u001b[0mtitle\u001b[0m\u001b[1;33m=\u001b[0m\u001b[1;34m\"Title\"\u001b[0m\u001b[1;33m)\u001b[0m\u001b[1;33m\u001b[0m\u001b[1;33m\u001b[0m\u001b[0m\n",
      "\u001b[1;31mNameError\u001b[0m: name 'M' is not defined"
     ]
    }
   ],
   "source": [
    "def init_test(x):\n",
    "    return np.sin(2*np.pi*x) #np.exp(-(x-2)*(x-2))\n",
    "\n",
    "def bc_test(t):\n",
    "    return t**2 \n",
    "\n",
    "def upwind(M, T, N, u_init, u_bc):\n",
    "    \n",
    "    h=1/M\n",
    "    k=T/N\n",
    "    \n",
    "    t=np.linspace(0, T, N+1)\n",
    "    x=np.linspace(0, 1, M+1)\n",
    "    \n",
    "    U=np.zeros((N+1, M+1))\n",
    "    \n",
    "    U[0, :]=u_init(x)\n",
    "    \n",
    "    U[:, 0]=u_bc(t)\n",
    "    \n",
    "    lower=(k/h)*pos_a(x)[1:]\n",
    "    middle=np.ones(len(x))-(k/h)*pos_a(x)[:]-(k/h)*neg_a(x)[:]\n",
    "    upper=(k/h)*neg_a(x)[:-1]\n",
    "    \n",
    "    A=tridiag(lower, middle, upper)\n",
    "    print(A)\n",
    "    \n",
    "    CFL=k/h*simple_a(x)\n",
    "    \n",
    "    for n in range(N):\n",
    "        U[n+1, :]=A@U[n, :]\n",
    "    \n",
    "    return U, x, t, CFL\n",
    "\n",
    "test, testx, testt, CFL=upwind(M, T, N, init_test, bc_test)\n",
    "\n",
    "plot_solutionTest(test, angle=-30, title=\"Title\")\n",
    "\n",
    "#SER FEIL UT :P\n",
    "\n",
    "plt.figure()\n",
    "plt.plot(testx, test[0, :])\n",
    "plt.plot(testx, test[50, :])\n",
    "plt.plot(testx, test[100, :])\n",
    "#plt.plot(testx, test[450, :])\n",
    "#plt.plot(testx, test[700, :])\n",
    "#plt.plot(testx, test[900, :])"
   ]
  }
 ],
 "metadata": {
  "kernelspec": {
   "display_name": "Python 3",
   "language": "python",
   "name": "python3"
  },
  "language_info": {
   "codemirror_mode": {
    "name": "ipython",
    "version": 3
   },
   "file_extension": ".py",
   "mimetype": "text/x-python",
   "name": "python",
   "nbconvert_exporter": "python",
   "pygments_lexer": "ipython3",
   "version": "3.7.4"
  }
 },
 "nbformat": 4,
 "nbformat_minor": 2
}
